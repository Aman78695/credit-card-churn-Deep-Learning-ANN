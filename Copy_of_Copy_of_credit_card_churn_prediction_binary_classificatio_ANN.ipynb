{
  "nbformat": 4,
  "nbformat_minor": 0,
  "metadata": {
    "colab": {
      "provenance": [],
      "authorship_tag": "ABX9TyN3NG2ExRkYronrBWfIuM26",
      "include_colab_link": true
    },
    "kernelspec": {
      "name": "python3",
      "display_name": "Python 3"
    },
    "language_info": {
      "name": "python"
    }
  },
  "cells": [
    {
      "cell_type": "markdown",
      "metadata": {
        "id": "view-in-github",
        "colab_type": "text"
      },
      "source": [
        "<a href=\"https://colab.research.google.com/github/Aman78695/credit-card-churn-Deep-Learning-ANN/blob/main/Copy_of_Copy_of_credit_card_churn_prediction_binary_classificatio_ANN.ipynb\" target=\"_parent\"><img src=\"https://colab.research.google.com/assets/colab-badge.svg\" alt=\"Open In Colab\"/></a>"
      ]
    },
    {
      "cell_type": "code",
      "execution_count": null,
      "metadata": {
        "id": "mjiyRvtm1j-j"
      },
      "outputs": [],
      "source": [
        "import numpy as np\n",
        "import pandas as pd\n",
        "import matplotlib.pyplot as plt\n",
        "import keras"
      ]
    },
    {
      "cell_type": "code",
      "source": [
        "df=pd.read_csv('/content/Churn_Modelling.csv')"
      ],
      "metadata": {
        "id": "vcaMEV5e7j5c"
      },
      "execution_count": null,
      "outputs": []
    },
    {
      "cell_type": "code",
      "source": [
        "df.head()"
      ],
      "metadata": {
        "colab": {
          "base_uri": "https://localhost:8080/",
          "height": 270
        },
        "id": "vin7GhoI7q4L",
        "outputId": "4b7f972d-0e6a-4d53-bcf2-d3589cf4c5d2"
      },
      "execution_count": null,
      "outputs": [
        {
          "output_type": "execute_result",
          "data": {
            "text/plain": [
              "   RowNumber  CustomerId   Surname  CreditScore Geography  Gender  Age  \\\n",
              "0          1    15634602  Hargrave          619    France  Female   42   \n",
              "1          2    15647311      Hill          608     Spain  Female   41   \n",
              "2          3    15619304      Onio          502    France  Female   42   \n",
              "3          4    15701354      Boni          699    France  Female   39   \n",
              "4          5    15737888  Mitchell          850     Spain  Female   43   \n",
              "\n",
              "   Tenure    Balance  NumOfProducts  HasCrCard  IsActiveMember  \\\n",
              "0       2       0.00              1          1               1   \n",
              "1       1   83807.86              1          0               1   \n",
              "2       8  159660.80              3          1               0   \n",
              "3       1       0.00              2          0               0   \n",
              "4       2  125510.82              1          1               1   \n",
              "\n",
              "   EstimatedSalary  Exited  \n",
              "0        101348.88       1  \n",
              "1        112542.58       0  \n",
              "2        113931.57       1  \n",
              "3         93826.63       0  \n",
              "4         79084.10       0  "
            ],
            "text/html": [
              "\n",
              "  <div id=\"df-62729019-691a-4a62-84ec-850e51c5714a\">\n",
              "    <div class=\"colab-df-container\">\n",
              "      <div>\n",
              "<style scoped>\n",
              "    .dataframe tbody tr th:only-of-type {\n",
              "        vertical-align: middle;\n",
              "    }\n",
              "\n",
              "    .dataframe tbody tr th {\n",
              "        vertical-align: top;\n",
              "    }\n",
              "\n",
              "    .dataframe thead th {\n",
              "        text-align: right;\n",
              "    }\n",
              "</style>\n",
              "<table border=\"1\" class=\"dataframe\">\n",
              "  <thead>\n",
              "    <tr style=\"text-align: right;\">\n",
              "      <th></th>\n",
              "      <th>RowNumber</th>\n",
              "      <th>CustomerId</th>\n",
              "      <th>Surname</th>\n",
              "      <th>CreditScore</th>\n",
              "      <th>Geography</th>\n",
              "      <th>Gender</th>\n",
              "      <th>Age</th>\n",
              "      <th>Tenure</th>\n",
              "      <th>Balance</th>\n",
              "      <th>NumOfProducts</th>\n",
              "      <th>HasCrCard</th>\n",
              "      <th>IsActiveMember</th>\n",
              "      <th>EstimatedSalary</th>\n",
              "      <th>Exited</th>\n",
              "    </tr>\n",
              "  </thead>\n",
              "  <tbody>\n",
              "    <tr>\n",
              "      <th>0</th>\n",
              "      <td>1</td>\n",
              "      <td>15634602</td>\n",
              "      <td>Hargrave</td>\n",
              "      <td>619</td>\n",
              "      <td>France</td>\n",
              "      <td>Female</td>\n",
              "      <td>42</td>\n",
              "      <td>2</td>\n",
              "      <td>0.00</td>\n",
              "      <td>1</td>\n",
              "      <td>1</td>\n",
              "      <td>1</td>\n",
              "      <td>101348.88</td>\n",
              "      <td>1</td>\n",
              "    </tr>\n",
              "    <tr>\n",
              "      <th>1</th>\n",
              "      <td>2</td>\n",
              "      <td>15647311</td>\n",
              "      <td>Hill</td>\n",
              "      <td>608</td>\n",
              "      <td>Spain</td>\n",
              "      <td>Female</td>\n",
              "      <td>41</td>\n",
              "      <td>1</td>\n",
              "      <td>83807.86</td>\n",
              "      <td>1</td>\n",
              "      <td>0</td>\n",
              "      <td>1</td>\n",
              "      <td>112542.58</td>\n",
              "      <td>0</td>\n",
              "    </tr>\n",
              "    <tr>\n",
              "      <th>2</th>\n",
              "      <td>3</td>\n",
              "      <td>15619304</td>\n",
              "      <td>Onio</td>\n",
              "      <td>502</td>\n",
              "      <td>France</td>\n",
              "      <td>Female</td>\n",
              "      <td>42</td>\n",
              "      <td>8</td>\n",
              "      <td>159660.80</td>\n",
              "      <td>3</td>\n",
              "      <td>1</td>\n",
              "      <td>0</td>\n",
              "      <td>113931.57</td>\n",
              "      <td>1</td>\n",
              "    </tr>\n",
              "    <tr>\n",
              "      <th>3</th>\n",
              "      <td>4</td>\n",
              "      <td>15701354</td>\n",
              "      <td>Boni</td>\n",
              "      <td>699</td>\n",
              "      <td>France</td>\n",
              "      <td>Female</td>\n",
              "      <td>39</td>\n",
              "      <td>1</td>\n",
              "      <td>0.00</td>\n",
              "      <td>2</td>\n",
              "      <td>0</td>\n",
              "      <td>0</td>\n",
              "      <td>93826.63</td>\n",
              "      <td>0</td>\n",
              "    </tr>\n",
              "    <tr>\n",
              "      <th>4</th>\n",
              "      <td>5</td>\n",
              "      <td>15737888</td>\n",
              "      <td>Mitchell</td>\n",
              "      <td>850</td>\n",
              "      <td>Spain</td>\n",
              "      <td>Female</td>\n",
              "      <td>43</td>\n",
              "      <td>2</td>\n",
              "      <td>125510.82</td>\n",
              "      <td>1</td>\n",
              "      <td>1</td>\n",
              "      <td>1</td>\n",
              "      <td>79084.10</td>\n",
              "      <td>0</td>\n",
              "    </tr>\n",
              "  </tbody>\n",
              "</table>\n",
              "</div>\n",
              "      <button class=\"colab-df-convert\" onclick=\"convertToInteractive('df-62729019-691a-4a62-84ec-850e51c5714a')\"\n",
              "              title=\"Convert this dataframe to an interactive table.\"\n",
              "              style=\"display:none;\">\n",
              "        \n",
              "  <svg xmlns=\"http://www.w3.org/2000/svg\" height=\"24px\"viewBox=\"0 0 24 24\"\n",
              "       width=\"24px\">\n",
              "    <path d=\"M0 0h24v24H0V0z\" fill=\"none\"/>\n",
              "    <path d=\"M18.56 5.44l.94 2.06.94-2.06 2.06-.94-2.06-.94-.94-2.06-.94 2.06-2.06.94zm-11 1L8.5 8.5l.94-2.06 2.06-.94-2.06-.94L8.5 2.5l-.94 2.06-2.06.94zm10 10l.94 2.06.94-2.06 2.06-.94-2.06-.94-.94-2.06-.94 2.06-2.06.94z\"/><path d=\"M17.41 7.96l-1.37-1.37c-.4-.4-.92-.59-1.43-.59-.52 0-1.04.2-1.43.59L10.3 9.45l-7.72 7.72c-.78.78-.78 2.05 0 2.83L4 21.41c.39.39.9.59 1.41.59.51 0 1.02-.2 1.41-.59l7.78-7.78 2.81-2.81c.8-.78.8-2.07 0-2.86zM5.41 20L4 18.59l7.72-7.72 1.47 1.35L5.41 20z\"/>\n",
              "  </svg>\n",
              "      </button>\n",
              "      \n",
              "  <style>\n",
              "    .colab-df-container {\n",
              "      display:flex;\n",
              "      flex-wrap:wrap;\n",
              "      gap: 12px;\n",
              "    }\n",
              "\n",
              "    .colab-df-convert {\n",
              "      background-color: #E8F0FE;\n",
              "      border: none;\n",
              "      border-radius: 50%;\n",
              "      cursor: pointer;\n",
              "      display: none;\n",
              "      fill: #1967D2;\n",
              "      height: 32px;\n",
              "      padding: 0 0 0 0;\n",
              "      width: 32px;\n",
              "    }\n",
              "\n",
              "    .colab-df-convert:hover {\n",
              "      background-color: #E2EBFA;\n",
              "      box-shadow: 0px 1px 2px rgba(60, 64, 67, 0.3), 0px 1px 3px 1px rgba(60, 64, 67, 0.15);\n",
              "      fill: #174EA6;\n",
              "    }\n",
              "\n",
              "    [theme=dark] .colab-df-convert {\n",
              "      background-color: #3B4455;\n",
              "      fill: #D2E3FC;\n",
              "    }\n",
              "\n",
              "    [theme=dark] .colab-df-convert:hover {\n",
              "      background-color: #434B5C;\n",
              "      box-shadow: 0px 1px 3px 1px rgba(0, 0, 0, 0.15);\n",
              "      filter: drop-shadow(0px 1px 2px rgba(0, 0, 0, 0.3));\n",
              "      fill: #FFFFFF;\n",
              "    }\n",
              "  </style>\n",
              "\n",
              "      <script>\n",
              "        const buttonEl =\n",
              "          document.querySelector('#df-62729019-691a-4a62-84ec-850e51c5714a button.colab-df-convert');\n",
              "        buttonEl.style.display =\n",
              "          google.colab.kernel.accessAllowed ? 'block' : 'none';\n",
              "\n",
              "        async function convertToInteractive(key) {\n",
              "          const element = document.querySelector('#df-62729019-691a-4a62-84ec-850e51c5714a');\n",
              "          const dataTable =\n",
              "            await google.colab.kernel.invokeFunction('convertToInteractive',\n",
              "                                                     [key], {});\n",
              "          if (!dataTable) return;\n",
              "\n",
              "          const docLinkHtml = 'Like what you see? Visit the ' +\n",
              "            '<a target=\"_blank\" href=https://colab.research.google.com/notebooks/data_table.ipynb>data table notebook</a>'\n",
              "            + ' to learn more about interactive tables.';\n",
              "          element.innerHTML = '';\n",
              "          dataTable['output_type'] = 'display_data';\n",
              "          await google.colab.output.renderOutput(dataTable, element);\n",
              "          const docLink = document.createElement('div');\n",
              "          docLink.innerHTML = docLinkHtml;\n",
              "          element.appendChild(docLink);\n",
              "        }\n",
              "      </script>\n",
              "    </div>\n",
              "  </div>\n",
              "  "
            ]
          },
          "metadata": {},
          "execution_count": 3
        }
      ]
    },
    {
      "cell_type": "code",
      "source": [
        "df.info()"
      ],
      "metadata": {
        "colab": {
          "base_uri": "https://localhost:8080/"
        },
        "id": "J_544wYx7_Zp",
        "outputId": "64c5cf18-1cf2-4e20-9c6b-07011a6a21ac"
      },
      "execution_count": null,
      "outputs": [
        {
          "output_type": "stream",
          "name": "stdout",
          "text": [
            "<class 'pandas.core.frame.DataFrame'>\n",
            "RangeIndex: 10000 entries, 0 to 9999\n",
            "Data columns (total 14 columns):\n",
            " #   Column           Non-Null Count  Dtype  \n",
            "---  ------           --------------  -----  \n",
            " 0   RowNumber        10000 non-null  int64  \n",
            " 1   CustomerId       10000 non-null  int64  \n",
            " 2   Surname          10000 non-null  object \n",
            " 3   CreditScore      10000 non-null  int64  \n",
            " 4   Geography        10000 non-null  object \n",
            " 5   Gender           10000 non-null  object \n",
            " 6   Age              10000 non-null  int64  \n",
            " 7   Tenure           10000 non-null  int64  \n",
            " 8   Balance          10000 non-null  float64\n",
            " 9   NumOfProducts    10000 non-null  int64  \n",
            " 10  HasCrCard        10000 non-null  int64  \n",
            " 11  IsActiveMember   10000 non-null  int64  \n",
            " 12  EstimatedSalary  10000 non-null  float64\n",
            " 13  Exited           10000 non-null  int64  \n",
            "dtypes: float64(2), int64(9), object(3)\n",
            "memory usage: 1.1+ MB\n"
          ]
        }
      ]
    },
    {
      "cell_type": "code",
      "source": [
        "df.duplicated().sum()"
      ],
      "metadata": {
        "colab": {
          "base_uri": "https://localhost:8080/"
        },
        "id": "MqU-6aNa8BEw",
        "outputId": "c3efe46a-b3e6-4d6d-b164-4332c47543e7"
      },
      "execution_count": null,
      "outputs": [
        {
          "output_type": "execute_result",
          "data": {
            "text/plain": [
              "0"
            ]
          },
          "metadata": {},
          "execution_count": 5
        }
      ]
    },
    {
      "cell_type": "code",
      "source": [
        "df.drop(columns=['RowNumber','CustomerId','Surname'],inplace=True)"
      ],
      "metadata": {
        "id": "KCeu94qM8FpU"
      },
      "execution_count": null,
      "outputs": []
    },
    {
      "cell_type": "code",
      "source": [
        "df=pd.get_dummies(df,columns=['Geography','Gender'],drop_first=True)"
      ],
      "metadata": {
        "id": "wa5-uRe09Vvn"
      },
      "execution_count": null,
      "outputs": []
    },
    {
      "cell_type": "code",
      "source": [
        "y=df['Exited']"
      ],
      "metadata": {
        "id": "-iUNwonm906x"
      },
      "execution_count": null,
      "outputs": []
    },
    {
      "cell_type": "code",
      "source": [
        "y"
      ],
      "metadata": {
        "colab": {
          "base_uri": "https://localhost:8080/"
        },
        "id": "MjgMdGTf-r9J",
        "outputId": "fbe51b63-e445-41ee-81c8-40dc0a1ae510"
      },
      "execution_count": null,
      "outputs": [
        {
          "output_type": "execute_result",
          "data": {
            "text/plain": [
              "0       1\n",
              "1       0\n",
              "2       1\n",
              "3       0\n",
              "4       0\n",
              "       ..\n",
              "9995    0\n",
              "9996    0\n",
              "9997    1\n",
              "9998    1\n",
              "9999    0\n",
              "Name: Exited, Length: 10000, dtype: int64"
            ]
          },
          "metadata": {},
          "execution_count": 18
        }
      ]
    },
    {
      "cell_type": "code",
      "source": [
        "df.drop(columns=['Exited'],inplace=True)"
      ],
      "metadata": {
        "id": "R8oLv1zB9snv"
      },
      "execution_count": null,
      "outputs": []
    },
    {
      "cell_type": "code",
      "source": [
        "X=df"
      ],
      "metadata": {
        "id": "VqUPfg_b-Hlt"
      },
      "execution_count": null,
      "outputs": []
    },
    {
      "cell_type": "code",
      "source": [
        "X.head()"
      ],
      "metadata": {
        "colab": {
          "base_uri": "https://localhost:8080/",
          "height": 270
        },
        "id": "RxDz_Ji6-xKl",
        "outputId": "e4d3e1cd-fb98-42da-837d-fa85a187a4ef"
      },
      "execution_count": null,
      "outputs": [
        {
          "output_type": "execute_result",
          "data": {
            "text/plain": [
              "   CreditScore  Age  Tenure    Balance  NumOfProducts  HasCrCard  \\\n",
              "0          619   42       2       0.00              1          1   \n",
              "1          608   41       1   83807.86              1          0   \n",
              "2          502   42       8  159660.80              3          1   \n",
              "3          699   39       1       0.00              2          0   \n",
              "4          850   43       2  125510.82              1          1   \n",
              "\n",
              "   IsActiveMember  EstimatedSalary  Geography_Germany  Geography_Spain  \\\n",
              "0               1        101348.88                  0                0   \n",
              "1               1        112542.58                  0                1   \n",
              "2               0        113931.57                  0                0   \n",
              "3               0         93826.63                  0                0   \n",
              "4               1         79084.10                  0                1   \n",
              "\n",
              "   Gender_Male  \n",
              "0            0  \n",
              "1            0  \n",
              "2            0  \n",
              "3            0  \n",
              "4            0  "
            ],
            "text/html": [
              "\n",
              "  <div id=\"df-07a9b84c-b4c1-48c6-816e-ebe6a153c00d\">\n",
              "    <div class=\"colab-df-container\">\n",
              "      <div>\n",
              "<style scoped>\n",
              "    .dataframe tbody tr th:only-of-type {\n",
              "        vertical-align: middle;\n",
              "    }\n",
              "\n",
              "    .dataframe tbody tr th {\n",
              "        vertical-align: top;\n",
              "    }\n",
              "\n",
              "    .dataframe thead th {\n",
              "        text-align: right;\n",
              "    }\n",
              "</style>\n",
              "<table border=\"1\" class=\"dataframe\">\n",
              "  <thead>\n",
              "    <tr style=\"text-align: right;\">\n",
              "      <th></th>\n",
              "      <th>CreditScore</th>\n",
              "      <th>Age</th>\n",
              "      <th>Tenure</th>\n",
              "      <th>Balance</th>\n",
              "      <th>NumOfProducts</th>\n",
              "      <th>HasCrCard</th>\n",
              "      <th>IsActiveMember</th>\n",
              "      <th>EstimatedSalary</th>\n",
              "      <th>Geography_Germany</th>\n",
              "      <th>Geography_Spain</th>\n",
              "      <th>Gender_Male</th>\n",
              "    </tr>\n",
              "  </thead>\n",
              "  <tbody>\n",
              "    <tr>\n",
              "      <th>0</th>\n",
              "      <td>619</td>\n",
              "      <td>42</td>\n",
              "      <td>2</td>\n",
              "      <td>0.00</td>\n",
              "      <td>1</td>\n",
              "      <td>1</td>\n",
              "      <td>1</td>\n",
              "      <td>101348.88</td>\n",
              "      <td>0</td>\n",
              "      <td>0</td>\n",
              "      <td>0</td>\n",
              "    </tr>\n",
              "    <tr>\n",
              "      <th>1</th>\n",
              "      <td>608</td>\n",
              "      <td>41</td>\n",
              "      <td>1</td>\n",
              "      <td>83807.86</td>\n",
              "      <td>1</td>\n",
              "      <td>0</td>\n",
              "      <td>1</td>\n",
              "      <td>112542.58</td>\n",
              "      <td>0</td>\n",
              "      <td>1</td>\n",
              "      <td>0</td>\n",
              "    </tr>\n",
              "    <tr>\n",
              "      <th>2</th>\n",
              "      <td>502</td>\n",
              "      <td>42</td>\n",
              "      <td>8</td>\n",
              "      <td>159660.80</td>\n",
              "      <td>3</td>\n",
              "      <td>1</td>\n",
              "      <td>0</td>\n",
              "      <td>113931.57</td>\n",
              "      <td>0</td>\n",
              "      <td>0</td>\n",
              "      <td>0</td>\n",
              "    </tr>\n",
              "    <tr>\n",
              "      <th>3</th>\n",
              "      <td>699</td>\n",
              "      <td>39</td>\n",
              "      <td>1</td>\n",
              "      <td>0.00</td>\n",
              "      <td>2</td>\n",
              "      <td>0</td>\n",
              "      <td>0</td>\n",
              "      <td>93826.63</td>\n",
              "      <td>0</td>\n",
              "      <td>0</td>\n",
              "      <td>0</td>\n",
              "    </tr>\n",
              "    <tr>\n",
              "      <th>4</th>\n",
              "      <td>850</td>\n",
              "      <td>43</td>\n",
              "      <td>2</td>\n",
              "      <td>125510.82</td>\n",
              "      <td>1</td>\n",
              "      <td>1</td>\n",
              "      <td>1</td>\n",
              "      <td>79084.10</td>\n",
              "      <td>0</td>\n",
              "      <td>1</td>\n",
              "      <td>0</td>\n",
              "    </tr>\n",
              "  </tbody>\n",
              "</table>\n",
              "</div>\n",
              "      <button class=\"colab-df-convert\" onclick=\"convertToInteractive('df-07a9b84c-b4c1-48c6-816e-ebe6a153c00d')\"\n",
              "              title=\"Convert this dataframe to an interactive table.\"\n",
              "              style=\"display:none;\">\n",
              "        \n",
              "  <svg xmlns=\"http://www.w3.org/2000/svg\" height=\"24px\"viewBox=\"0 0 24 24\"\n",
              "       width=\"24px\">\n",
              "    <path d=\"M0 0h24v24H0V0z\" fill=\"none\"/>\n",
              "    <path d=\"M18.56 5.44l.94 2.06.94-2.06 2.06-.94-2.06-.94-.94-2.06-.94 2.06-2.06.94zm-11 1L8.5 8.5l.94-2.06 2.06-.94-2.06-.94L8.5 2.5l-.94 2.06-2.06.94zm10 10l.94 2.06.94-2.06 2.06-.94-2.06-.94-.94-2.06-.94 2.06-2.06.94z\"/><path d=\"M17.41 7.96l-1.37-1.37c-.4-.4-.92-.59-1.43-.59-.52 0-1.04.2-1.43.59L10.3 9.45l-7.72 7.72c-.78.78-.78 2.05 0 2.83L4 21.41c.39.39.9.59 1.41.59.51 0 1.02-.2 1.41-.59l7.78-7.78 2.81-2.81c.8-.78.8-2.07 0-2.86zM5.41 20L4 18.59l7.72-7.72 1.47 1.35L5.41 20z\"/>\n",
              "  </svg>\n",
              "      </button>\n",
              "      \n",
              "  <style>\n",
              "    .colab-df-container {\n",
              "      display:flex;\n",
              "      flex-wrap:wrap;\n",
              "      gap: 12px;\n",
              "    }\n",
              "\n",
              "    .colab-df-convert {\n",
              "      background-color: #E8F0FE;\n",
              "      border: none;\n",
              "      border-radius: 50%;\n",
              "      cursor: pointer;\n",
              "      display: none;\n",
              "      fill: #1967D2;\n",
              "      height: 32px;\n",
              "      padding: 0 0 0 0;\n",
              "      width: 32px;\n",
              "    }\n",
              "\n",
              "    .colab-df-convert:hover {\n",
              "      background-color: #E2EBFA;\n",
              "      box-shadow: 0px 1px 2px rgba(60, 64, 67, 0.3), 0px 1px 3px 1px rgba(60, 64, 67, 0.15);\n",
              "      fill: #174EA6;\n",
              "    }\n",
              "\n",
              "    [theme=dark] .colab-df-convert {\n",
              "      background-color: #3B4455;\n",
              "      fill: #D2E3FC;\n",
              "    }\n",
              "\n",
              "    [theme=dark] .colab-df-convert:hover {\n",
              "      background-color: #434B5C;\n",
              "      box-shadow: 0px 1px 3px 1px rgba(0, 0, 0, 0.15);\n",
              "      filter: drop-shadow(0px 1px 2px rgba(0, 0, 0, 0.3));\n",
              "      fill: #FFFFFF;\n",
              "    }\n",
              "  </style>\n",
              "\n",
              "      <script>\n",
              "        const buttonEl =\n",
              "          document.querySelector('#df-07a9b84c-b4c1-48c6-816e-ebe6a153c00d button.colab-df-convert');\n",
              "        buttonEl.style.display =\n",
              "          google.colab.kernel.accessAllowed ? 'block' : 'none';\n",
              "\n",
              "        async function convertToInteractive(key) {\n",
              "          const element = document.querySelector('#df-07a9b84c-b4c1-48c6-816e-ebe6a153c00d');\n",
              "          const dataTable =\n",
              "            await google.colab.kernel.invokeFunction('convertToInteractive',\n",
              "                                                     [key], {});\n",
              "          if (!dataTable) return;\n",
              "\n",
              "          const docLinkHtml = 'Like what you see? Visit the ' +\n",
              "            '<a target=\"_blank\" href=https://colab.research.google.com/notebooks/data_table.ipynb>data table notebook</a>'\n",
              "            + ' to learn more about interactive tables.';\n",
              "          element.innerHTML = '';\n",
              "          dataTable['output_type'] = 'display_data';\n",
              "          await google.colab.output.renderOutput(dataTable, element);\n",
              "          const docLink = document.createElement('div');\n",
              "          docLink.innerHTML = docLinkHtml;\n",
              "          element.appendChild(docLink);\n",
              "        }\n",
              "      </script>\n",
              "    </div>\n",
              "  </div>\n",
              "  "
            ]
          },
          "metadata": {},
          "execution_count": 20
        }
      ]
    },
    {
      "cell_type": "code",
      "source": [
        "from sklearn.model_selection import train_test_split"
      ],
      "metadata": {
        "id": "oRNmI9fD-1JJ"
      },
      "execution_count": null,
      "outputs": []
    },
    {
      "cell_type": "code",
      "source": [
        "X_train,X_test,y_train,y_test=train_test_split(X,y,test_size=0.3)"
      ],
      "metadata": {
        "id": "UlDzvVFC-9PQ"
      },
      "execution_count": null,
      "outputs": []
    },
    {
      "cell_type": "code",
      "source": [
        "X_train.shape"
      ],
      "metadata": {
        "colab": {
          "base_uri": "https://localhost:8080/"
        },
        "id": "ENfzWtKXBInM",
        "outputId": "3c1e5a76-f698-4bd7-8af6-711b6dfdd259"
      },
      "execution_count": null,
      "outputs": [
        {
          "output_type": "execute_result",
          "data": {
            "text/plain": [
              "(7000, 11)"
            ]
          },
          "metadata": {},
          "execution_count": 27
        }
      ]
    },
    {
      "cell_type": "code",
      "source": [
        "from sklearn.preprocessing import StandardScaler\n",
        "scaler=StandardScaler()"
      ],
      "metadata": {
        "id": "fpCgwG98_J97"
      },
      "execution_count": null,
      "outputs": []
    },
    {
      "cell_type": "code",
      "source": [
        "X_train_scaled=scaler.fit_transform(X_train)\n",
        "X_test_scaled=scaler.transform(X_test)"
      ],
      "metadata": {
        "id": "R9aEDRpC_y-t"
      },
      "execution_count": null,
      "outputs": []
    },
    {
      "cell_type": "code",
      "source": [
        "import tensorflow\n",
        "from tensorflow import keras\n",
        "from tensorflow.keras import Sequential\n",
        "from tensorflow.keras.layers import Dense"
      ],
      "metadata": {
        "id": "Y_AGIrTvAHey"
      },
      "execution_count": null,
      "outputs": []
    },
    {
      "cell_type": "code",
      "source": [
        "model=Sequential()\n",
        "model.add(Dense(3,activation='sigmoid',input_dim=11))\n",
        "model.add(Dense(1,activation='sigmoid'))"
      ],
      "metadata": {
        "id": "pF-eDvMSBPKc"
      },
      "execution_count": null,
      "outputs": []
    },
    {
      "cell_type": "code",
      "source": [
        "model.summary()"
      ],
      "metadata": {
        "colab": {
          "base_uri": "https://localhost:8080/"
        },
        "id": "lfPonNRLBx7o",
        "outputId": "020b5e36-6db8-4083-a0b6-a5cf91869983"
      },
      "execution_count": null,
      "outputs": [
        {
          "output_type": "stream",
          "name": "stdout",
          "text": [
            "Model: \"sequential\"\n",
            "_________________________________________________________________\n",
            " Layer (type)                Output Shape              Param #   \n",
            "=================================================================\n",
            " dense (Dense)               (None, 3)                 36        \n",
            "                                                                 \n",
            " dense_1 (Dense)             (None, 1)                 4         \n",
            "                                                                 \n",
            "=================================================================\n",
            "Total params: 40\n",
            "Trainable params: 40\n",
            "Non-trainable params: 0\n",
            "_________________________________________________________________\n"
          ]
        }
      ]
    },
    {
      "cell_type": "code",
      "source": [
        "model.compile(loss='binary_crossentropy',optimizer='Adam')"
      ],
      "metadata": {
        "id": "xMGjwzl2CrAn"
      },
      "execution_count": null,
      "outputs": []
    },
    {
      "cell_type": "code",
      "source": [
        "model.fit(X_train_scaled,y_train,epochs=10)"
      ],
      "metadata": {
        "colab": {
          "base_uri": "https://localhost:8080/"
        },
        "id": "RJNUg3CyC4eC",
        "outputId": "9b04bed4-895d-4944-94b6-5001d8be5b19"
      },
      "execution_count": null,
      "outputs": [
        {
          "output_type": "stream",
          "name": "stdout",
          "text": [
            "Epoch 1/10\n",
            "219/219 [==============================] - 0s 2ms/step - loss: 0.6530\n",
            "Epoch 2/10\n",
            "219/219 [==============================] - 0s 2ms/step - loss: 0.5747\n",
            "Epoch 3/10\n",
            "219/219 [==============================] - 0s 2ms/step - loss: 0.5253\n",
            "Epoch 4/10\n",
            "219/219 [==============================] - 0s 2ms/step - loss: 0.4944\n",
            "Epoch 5/10\n",
            "219/219 [==============================] - 0s 2ms/step - loss: 0.4766\n",
            "Epoch 6/10\n",
            "219/219 [==============================] - 0s 2ms/step - loss: 0.4657\n",
            "Epoch 7/10\n",
            "219/219 [==============================] - 0s 2ms/step - loss: 0.4577\n",
            "Epoch 8/10\n",
            "219/219 [==============================] - 0s 1ms/step - loss: 0.4511\n",
            "Epoch 9/10\n",
            "219/219 [==============================] - 0s 1ms/step - loss: 0.4453\n",
            "Epoch 10/10\n",
            "219/219 [==============================] - 0s 2ms/step - loss: 0.4401\n"
          ]
        },
        {
          "output_type": "execute_result",
          "data": {
            "text/plain": [
              "<keras.callbacks.History at 0x7f4c933a2dc0>"
            ]
          },
          "metadata": {},
          "execution_count": 32
        }
      ]
    },
    {
      "cell_type": "code",
      "source": [
        "y_hat=model.predict(X_test_scaled)"
      ],
      "metadata": {
        "colab": {
          "base_uri": "https://localhost:8080/"
        },
        "id": "lv1lFMERDJDR",
        "outputId": "eeeb9bec-db3d-41cd-e834-b383057286a9"
      },
      "execution_count": null,
      "outputs": [
        {
          "output_type": "stream",
          "name": "stdout",
          "text": [
            "94/94 [==============================] - 0s 1ms/step\n"
          ]
        }
      ]
    },
    {
      "cell_type": "code",
      "source": [
        "y_pred=np.where(y_hat>0.5,1,0)"
      ],
      "metadata": {
        "id": "SdecR-gFDR-3"
      },
      "execution_count": null,
      "outputs": []
    },
    {
      "cell_type": "code",
      "source": [
        "from sklearn.metrics import accuracy_score"
      ],
      "metadata": {
        "id": "3S3zv48RDmov"
      },
      "execution_count": null,
      "outputs": []
    },
    {
      "cell_type": "code",
      "source": [
        "accuracy_score(y_pred,y_test)"
      ],
      "metadata": {
        "colab": {
          "base_uri": "https://localhost:8080/"
        },
        "id": "lSKFxiXEDsmq",
        "outputId": "8139ce62-09d1-4d3b-9828-4223128d8ede"
      },
      "execution_count": null,
      "outputs": [
        {
          "output_type": "execute_result",
          "data": {
            "text/plain": [
              "0.7996666666666666"
            ]
          },
          "metadata": {},
          "execution_count": 40
        }
      ]
    },
    {
      "cell_type": "markdown",
      "source": [
        "### improving accuracy"
      ],
      "metadata": {
        "id": "FRbW-wwbEF0J"
      }
    },
    {
      "cell_type": "code",
      "source": [
        "model1=Sequential()\n",
        "model1.add(Dense(11,activation='relu',input_dim=11))\n",
        "model1.add(Dense(11,activation='relu'))\n",
        "model1.add(Dense(1,activation='sigmoid'))"
      ],
      "metadata": {
        "id": "HMuOTpikEJPh"
      },
      "execution_count": null,
      "outputs": []
    },
    {
      "cell_type": "code",
      "source": [
        "model1.compile(loss='binary_crossentropy',optimizer='Adam')"
      ],
      "metadata": {
        "id": "baL0RKFWEtB-"
      },
      "execution_count": null,
      "outputs": []
    },
    {
      "cell_type": "code",
      "source": [
        "model1.fit(X_train_scaled,y_train,epochs=100,validation_split=0.2)"
      ],
      "metadata": {
        "colab": {
          "base_uri": "https://localhost:8080/"
        },
        "id": "ZjfZCkGkEx4K",
        "outputId": "605a53e9-0379-42cb-9cdf-db77e7796937"
      },
      "execution_count": null,
      "outputs": [
        {
          "output_type": "stream",
          "name": "stdout",
          "text": [
            "Epoch 1/100\n",
            "175/175 [==============================] - 1s 6ms/step - loss: 0.3368 - val_loss: 0.3507\n",
            "Epoch 2/100\n",
            "175/175 [==============================] - 1s 5ms/step - loss: 0.3356 - val_loss: 0.3526\n",
            "Epoch 3/100\n",
            "175/175 [==============================] - 1s 5ms/step - loss: 0.3353 - val_loss: 0.3515\n",
            "Epoch 4/100\n",
            "175/175 [==============================] - 0s 3ms/step - loss: 0.3343 - val_loss: 0.3532\n",
            "Epoch 5/100\n",
            "175/175 [==============================] - 0s 2ms/step - loss: 0.3342 - val_loss: 0.3529\n",
            "Epoch 6/100\n",
            "175/175 [==============================] - 0s 3ms/step - loss: 0.3333 - val_loss: 0.3529\n",
            "Epoch 7/100\n",
            "175/175 [==============================] - 0s 2ms/step - loss: 0.3329 - val_loss: 0.3577\n",
            "Epoch 8/100\n",
            "175/175 [==============================] - 0s 2ms/step - loss: 0.3326 - val_loss: 0.3547\n",
            "Epoch 9/100\n",
            "175/175 [==============================] - 0s 2ms/step - loss: 0.3320 - val_loss: 0.3545\n",
            "Epoch 10/100\n",
            "175/175 [==============================] - 0s 2ms/step - loss: 0.3315 - val_loss: 0.3560\n",
            "Epoch 11/100\n",
            "175/175 [==============================] - 0s 3ms/step - loss: 0.3312 - val_loss: 0.3550\n",
            "Epoch 12/100\n",
            "175/175 [==============================] - 0s 2ms/step - loss: 0.3306 - val_loss: 0.3552\n",
            "Epoch 13/100\n",
            "175/175 [==============================] - 0s 2ms/step - loss: 0.3302 - val_loss: 0.3552\n",
            "Epoch 14/100\n",
            "175/175 [==============================] - 0s 3ms/step - loss: 0.3298 - val_loss: 0.3550\n",
            "Epoch 15/100\n",
            "175/175 [==============================] - 0s 3ms/step - loss: 0.3300 - val_loss: 0.3542\n",
            "Epoch 16/100\n",
            "175/175 [==============================] - 0s 2ms/step - loss: 0.3290 - val_loss: 0.3558\n",
            "Epoch 17/100\n",
            "175/175 [==============================] - 0s 3ms/step - loss: 0.3285 - val_loss: 0.3554\n",
            "Epoch 18/100\n",
            "175/175 [==============================] - 0s 3ms/step - loss: 0.3289 - val_loss: 0.3543\n",
            "Epoch 19/100\n",
            "175/175 [==============================] - 0s 2ms/step - loss: 0.3281 - val_loss: 0.3546\n",
            "Epoch 20/100\n",
            "175/175 [==============================] - 0s 2ms/step - loss: 0.3278 - val_loss: 0.3553\n",
            "Epoch 21/100\n",
            "175/175 [==============================] - 0s 2ms/step - loss: 0.3280 - val_loss: 0.3538\n",
            "Epoch 22/100\n",
            "175/175 [==============================] - 0s 2ms/step - loss: 0.3272 - val_loss: 0.3542\n",
            "Epoch 23/100\n",
            "175/175 [==============================] - 0s 2ms/step - loss: 0.3268 - val_loss: 0.3544\n",
            "Epoch 24/100\n",
            "175/175 [==============================] - 0s 2ms/step - loss: 0.3264 - val_loss: 0.3551\n",
            "Epoch 25/100\n",
            "175/175 [==============================] - 0s 2ms/step - loss: 0.3259 - val_loss: 0.3541\n",
            "Epoch 26/100\n",
            "175/175 [==============================] - 1s 3ms/step - loss: 0.3253 - val_loss: 0.3540\n",
            "Epoch 27/100\n",
            "175/175 [==============================] - 1s 4ms/step - loss: 0.3250 - val_loss: 0.3572\n",
            "Epoch 28/100\n",
            "175/175 [==============================] - 1s 4ms/step - loss: 0.3250 - val_loss: 0.3541\n",
            "Epoch 29/100\n",
            "175/175 [==============================] - 1s 4ms/step - loss: 0.3249 - val_loss: 0.3542\n",
            "Epoch 30/100\n",
            "175/175 [==============================] - 1s 3ms/step - loss: 0.3247 - val_loss: 0.3551\n",
            "Epoch 31/100\n",
            "175/175 [==============================] - 0s 2ms/step - loss: 0.3246 - val_loss: 0.3546\n",
            "Epoch 32/100\n",
            "175/175 [==============================] - 0s 2ms/step - loss: 0.3243 - val_loss: 0.3553\n",
            "Epoch 33/100\n",
            "175/175 [==============================] - 0s 3ms/step - loss: 0.3244 - val_loss: 0.3550\n",
            "Epoch 34/100\n",
            "175/175 [==============================] - 0s 2ms/step - loss: 0.3227 - val_loss: 0.3563\n",
            "Epoch 35/100\n",
            "175/175 [==============================] - 0s 2ms/step - loss: 0.3235 - val_loss: 0.3551\n",
            "Epoch 36/100\n",
            "175/175 [==============================] - 0s 2ms/step - loss: 0.3233 - val_loss: 0.3557\n",
            "Epoch 37/100\n",
            "175/175 [==============================] - 1s 3ms/step - loss: 0.3226 - val_loss: 0.3579\n",
            "Epoch 38/100\n",
            "175/175 [==============================] - 0s 2ms/step - loss: 0.3223 - val_loss: 0.3554\n",
            "Epoch 39/100\n",
            "175/175 [==============================] - 0s 2ms/step - loss: 0.3224 - val_loss: 0.3549\n",
            "Epoch 40/100\n",
            "175/175 [==============================] - 0s 2ms/step - loss: 0.3220 - val_loss: 0.3557\n",
            "Epoch 41/100\n",
            "175/175 [==============================] - 0s 3ms/step - loss: 0.3217 - val_loss: 0.3556\n",
            "Epoch 42/100\n",
            "175/175 [==============================] - 0s 3ms/step - loss: 0.3219 - val_loss: 0.3549\n",
            "Epoch 43/100\n",
            "175/175 [==============================] - 0s 3ms/step - loss: 0.3211 - val_loss: 0.3553\n",
            "Epoch 44/100\n",
            "175/175 [==============================] - 0s 2ms/step - loss: 0.3210 - val_loss: 0.3542\n",
            "Epoch 45/100\n",
            "175/175 [==============================] - 0s 3ms/step - loss: 0.3208 - val_loss: 0.3549\n",
            "Epoch 46/100\n",
            "175/175 [==============================] - 0s 3ms/step - loss: 0.3207 - val_loss: 0.3550\n",
            "Epoch 47/100\n",
            "175/175 [==============================] - 0s 2ms/step - loss: 0.3206 - val_loss: 0.3559\n",
            "Epoch 48/100\n",
            "175/175 [==============================] - 0s 3ms/step - loss: 0.3203 - val_loss: 0.3563\n",
            "Epoch 49/100\n",
            "175/175 [==============================] - 0s 2ms/step - loss: 0.3206 - val_loss: 0.3559\n",
            "Epoch 50/100\n",
            "175/175 [==============================] - 0s 3ms/step - loss: 0.3196 - val_loss: 0.3555\n",
            "Epoch 51/100\n",
            "175/175 [==============================] - 0s 2ms/step - loss: 0.3204 - val_loss: 0.3555\n",
            "Epoch 52/100\n",
            "175/175 [==============================] - 1s 3ms/step - loss: 0.3191 - val_loss: 0.3544\n",
            "Epoch 53/100\n",
            "175/175 [==============================] - 1s 5ms/step - loss: 0.3193 - val_loss: 0.3557\n",
            "Epoch 54/100\n",
            "175/175 [==============================] - 1s 5ms/step - loss: 0.3187 - val_loss: 0.3553\n",
            "Epoch 55/100\n",
            "175/175 [==============================] - 1s 4ms/step - loss: 0.3195 - val_loss: 0.3568\n",
            "Epoch 56/100\n",
            "175/175 [==============================] - 0s 2ms/step - loss: 0.3191 - val_loss: 0.3547\n",
            "Epoch 57/100\n",
            "175/175 [==============================] - 0s 2ms/step - loss: 0.3185 - val_loss: 0.3549\n",
            "Epoch 58/100\n",
            "175/175 [==============================] - 0s 2ms/step - loss: 0.3181 - val_loss: 0.3587\n",
            "Epoch 59/100\n",
            "175/175 [==============================] - 0s 2ms/step - loss: 0.3181 - val_loss: 0.3555\n",
            "Epoch 60/100\n",
            "175/175 [==============================] - 0s 2ms/step - loss: 0.3179 - val_loss: 0.3559\n",
            "Epoch 61/100\n",
            "175/175 [==============================] - 0s 2ms/step - loss: 0.3178 - val_loss: 0.3571\n",
            "Epoch 62/100\n",
            "175/175 [==============================] - 0s 2ms/step - loss: 0.3179 - val_loss: 0.3547\n",
            "Epoch 63/100\n",
            "175/175 [==============================] - 0s 2ms/step - loss: 0.3175 - val_loss: 0.3555\n",
            "Epoch 64/100\n",
            "175/175 [==============================] - 0s 3ms/step - loss: 0.3178 - val_loss: 0.3598\n",
            "Epoch 65/100\n",
            "175/175 [==============================] - 0s 2ms/step - loss: 0.3176 - val_loss: 0.3559\n",
            "Epoch 66/100\n",
            "175/175 [==============================] - 0s 3ms/step - loss: 0.3176 - val_loss: 0.3580\n",
            "Epoch 67/100\n",
            "175/175 [==============================] - 0s 2ms/step - loss: 0.3174 - val_loss: 0.3579\n",
            "Epoch 68/100\n",
            "175/175 [==============================] - 0s 2ms/step - loss: 0.3171 - val_loss: 0.3566\n",
            "Epoch 69/100\n",
            "175/175 [==============================] - 0s 3ms/step - loss: 0.3169 - val_loss: 0.3585\n",
            "Epoch 70/100\n",
            "175/175 [==============================] - 0s 2ms/step - loss: 0.3176 - val_loss: 0.3572\n",
            "Epoch 71/100\n",
            "175/175 [==============================] - 0s 2ms/step - loss: 0.3170 - val_loss: 0.3552\n",
            "Epoch 72/100\n",
            "175/175 [==============================] - 0s 2ms/step - loss: 0.3169 - val_loss: 0.3561\n",
            "Epoch 73/100\n",
            "175/175 [==============================] - 0s 2ms/step - loss: 0.3166 - val_loss: 0.3554\n",
            "Epoch 74/100\n",
            "175/175 [==============================] - 0s 3ms/step - loss: 0.3166 - val_loss: 0.3568\n",
            "Epoch 75/100\n",
            "175/175 [==============================] - 0s 2ms/step - loss: 0.3167 - val_loss: 0.3574\n",
            "Epoch 76/100\n",
            "175/175 [==============================] - 0s 3ms/step - loss: 0.3165 - val_loss: 0.3566\n",
            "Epoch 77/100\n",
            "175/175 [==============================] - 0s 2ms/step - loss: 0.3161 - val_loss: 0.3585\n",
            "Epoch 78/100\n",
            "175/175 [==============================] - 1s 3ms/step - loss: 0.3165 - val_loss: 0.3566\n",
            "Epoch 79/100\n",
            "175/175 [==============================] - 1s 4ms/step - loss: 0.3162 - val_loss: 0.3574\n",
            "Epoch 80/100\n",
            "175/175 [==============================] - 1s 4ms/step - loss: 0.3158 - val_loss: 0.3566\n",
            "Epoch 81/100\n",
            "175/175 [==============================] - 1s 5ms/step - loss: 0.3159 - val_loss: 0.3567\n",
            "Epoch 82/100\n",
            "175/175 [==============================] - 1s 3ms/step - loss: 0.3158 - val_loss: 0.3562\n",
            "Epoch 83/100\n",
            "175/175 [==============================] - 0s 2ms/step - loss: 0.3157 - val_loss: 0.3596\n",
            "Epoch 84/100\n",
            "175/175 [==============================] - 0s 2ms/step - loss: 0.3154 - val_loss: 0.3572\n",
            "Epoch 85/100\n",
            "175/175 [==============================] - 0s 2ms/step - loss: 0.3156 - val_loss: 0.3583\n",
            "Epoch 86/100\n",
            "175/175 [==============================] - 0s 2ms/step - loss: 0.3151 - val_loss: 0.3569\n",
            "Epoch 87/100\n",
            "175/175 [==============================] - 0s 2ms/step - loss: 0.3152 - val_loss: 0.3580\n",
            "Epoch 88/100\n",
            "175/175 [==============================] - 0s 2ms/step - loss: 0.3152 - val_loss: 0.3580\n",
            "Epoch 89/100\n",
            "175/175 [==============================] - 0s 3ms/step - loss: 0.3147 - val_loss: 0.3568\n",
            "Epoch 90/100\n",
            "175/175 [==============================] - 1s 3ms/step - loss: 0.3146 - val_loss: 0.3582\n",
            "Epoch 91/100\n",
            "175/175 [==============================] - 0s 2ms/step - loss: 0.3153 - val_loss: 0.3580\n",
            "Epoch 92/100\n",
            "175/175 [==============================] - 0s 2ms/step - loss: 0.3146 - val_loss: 0.3607\n",
            "Epoch 93/100\n",
            "175/175 [==============================] - 0s 2ms/step - loss: 0.3145 - val_loss: 0.3582\n",
            "Epoch 94/100\n",
            "175/175 [==============================] - 0s 2ms/step - loss: 0.3143 - val_loss: 0.3569\n",
            "Epoch 95/100\n",
            "175/175 [==============================] - 0s 2ms/step - loss: 0.3147 - val_loss: 0.3581\n",
            "Epoch 96/100\n",
            "175/175 [==============================] - 1s 3ms/step - loss: 0.3139 - val_loss: 0.3586\n",
            "Epoch 97/100\n",
            "175/175 [==============================] - 0s 2ms/step - loss: 0.3139 - val_loss: 0.3578\n",
            "Epoch 98/100\n",
            "175/175 [==============================] - 0s 2ms/step - loss: 0.3141 - val_loss: 0.3601\n",
            "Epoch 99/100\n",
            "175/175 [==============================] - 0s 2ms/step - loss: 0.3139 - val_loss: 0.3585\n",
            "Epoch 100/100\n",
            "175/175 [==============================] - 0s 2ms/step - loss: 0.3137 - val_loss: 0.3590\n"
          ]
        },
        {
          "output_type": "execute_result",
          "data": {
            "text/plain": [
              "<keras.callbacks.History at 0x7f4c90087dc0>"
            ]
          },
          "metadata": {},
          "execution_count": 57
        }
      ]
    },
    {
      "cell_type": "code",
      "source": [
        "y_hat1=model1.predict(X_test_scaled)"
      ],
      "metadata": {
        "colab": {
          "base_uri": "https://localhost:8080/"
        },
        "id": "LLaJpDMdE2kO",
        "outputId": "cff64dcb-58b3-48a4-bb7e-1bf6a67c6c1f"
      },
      "execution_count": null,
      "outputs": [
        {
          "output_type": "stream",
          "name": "stdout",
          "text": [
            "94/94 [==============================] - 0s 1ms/step\n"
          ]
        }
      ]
    },
    {
      "cell_type": "code",
      "source": [
        "y_pred1=np.where(y_hat1>0.5,1,0)"
      ],
      "metadata": {
        "id": "WNeEv3I9FG_x"
      },
      "execution_count": null,
      "outputs": []
    },
    {
      "cell_type": "code",
      "source": [
        "accuracy_score(y_pred1,y_test)"
      ],
      "metadata": {
        "colab": {
          "base_uri": "https://localhost:8080/"
        },
        "id": "PMrNGjhrFJbK",
        "outputId": "2d787e89-b2ee-4fa7-d8c9-7d66ced65946"
      },
      "execution_count": null,
      "outputs": [
        {
          "output_type": "execute_result",
          "data": {
            "text/plain": [
              "0.8616666666666667"
            ]
          },
          "metadata": {},
          "execution_count": 63
        }
      ]
    }
  ]
}